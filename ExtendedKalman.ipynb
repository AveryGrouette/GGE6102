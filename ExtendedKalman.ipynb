{
 "cells": [
  {
   "cell_type": "code",
   "execution_count": 1,
   "metadata": {},
   "outputs": [
    {
     "ename": "SyntaxError",
     "evalue": "invalid syntax (345008978.py, line 70)",
     "output_type": "error",
     "traceback": [
      "\u001b[1;36m  Cell \u001b[1;32mIn[1], line 70\u001b[1;36m\u001b[0m\n\u001b[1;33m    pos_true[:, 0] =\u001b[0m\n\u001b[1;37m                    ^\u001b[0m\n\u001b[1;31mSyntaxError\u001b[0m\u001b[1;31m:\u001b[0m invalid syntax\n"
     ]
    }
   ],
   "source": [
    "#For the Extended Kalman Filter\n",
    "\n",
    "\n",
    "import numpy as np\n",
    "from scipy.linalg import inv\n",
    "import pandas as pd\n",
    "\n",
    "# Define the system dynamics function (non-linear)\n",
    "def f(x, u):\n",
    "    # x: state vector (X, Y, Z)\n",
    "    # u: input vector (velocity in North, East and Up directions)\n",
    "    X = x[0]\n",
    "    Y = x[1]\n",
    "    Z = x[2]\n",
    "    Vn = u[0]\n",
    "    Ve = u[1]\n",
    "    Vu = u[2]\n",
    "    dt = 1.0  # time step\n",
    "    F = np.array([[1, 0, 0, dt, 0, 0],\n",
    "                  [0, 1, 0, 0, dt, 0],\n",
    "                  [0, 0, 1, 0, 0, dt],\n",
    "                  [0, 0, 0, 1, 0, 0],\n",
    "                  [0, 0, 0, 0, 1, 0],\n",
    "                  [0, 0, 0, 0, 0, 1]])\n",
    "    x_next = np.array([[X + Vn*dt],\n",
    "                       [Y + Ve*dt],\n",
    "                       [Z + Vu*dt],\n",
    "                       [Vn],\n",
    "                       [Ve],\n",
    "                       [Vu]])\n",
    "    return x_next, F\n",
    "\n",
    "# Define the measurement function (linear)\n",
    "def h(x):\n",
    "    # x: state vector (X, Y, Z)\n",
    "    H = np.array([[1, 0, 0, 0, 0, 0],\n",
    "                  [0, 1, 0, 0, 0, 0],\n",
    "                  [0, 0, 1, 0, 0, 0]])\n",
    "    z = np.dot(H, x)\n",
    "    return z, H\n",
    "\n",
    "# Define the Extended Kalman Filter function\n",
    "def ekf(x, P, z, Q, R, u):\n",
    "    # x: initial state vector (X, Y, Z, Vn, Ve, Vu)\n",
    "    # P: initial covariance matrix\n",
    "    # z: measurement vector (X, Y, Z)\n",
    "    # Q: process noise covariance matrix\n",
    "    # R: measurement noise covariance matrix\n",
    "    # u: input vector (velocity in North, East and Up directions)\n",
    "    n = len(x)\n",
    "    m = len(z)\n",
    "    x_pred, F = f(x, u)\n",
    "    P_pred = np.dot(F, np.dot(P, F.T)) + Q\n",
    "    z_pred, H = h(x_pred)\n",
    "    y = z - z_pred\n",
    "    S = np.dot(H, np.dot(P_pred, H.T)) + R\n",
    "    K = np.dot(np.dot(P_pred, H.T), inv(S))\n",
    "    x_next = x_pred + np.dot(K, y)\n",
    "    P_next = np.dot(np.eye(n) - np.dot(K, H), P_pred)\n",
    "    return x_next, P_next\n",
    "\n",
    "# Set initial state and covariance\n",
    "x = np.array([[0], [0], [0], [10], [20], [30]])  # initial state (X, Y, Z, Vn, Ve, Vu)\n",
    "P = np.diag([100, 100, 100, 1, 1, 1])  # initial covariance matrix\n",
    "\n",
    "# Generate synthetic measurements\n",
    "num_samples = 100\n",
    "dt = 1.0\n",
    "pos_true = np.zeros((3, num_samples))\n",
    "pos_true[:, 0] ="
   ]
  }
 ],
 "metadata": {
  "kernelspec": {
   "display_name": "Python 3",
   "language": "python",
   "name": "python3"
  },
  "language_info": {
   "codemirror_mode": {
    "name": "ipython",
    "version": 3
   },
   "file_extension": ".py",
   "mimetype": "text/x-python",
   "name": "python",
   "nbconvert_exporter": "python",
   "pygments_lexer": "ipython3",
   "version": "3.11.1"
  },
  "orig_nbformat": 4
 },
 "nbformat": 4,
 "nbformat_minor": 2
}
