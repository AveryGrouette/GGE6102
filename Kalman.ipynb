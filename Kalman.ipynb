{
  "cells": [
    {
      "cell_type": "markdown",
      "metadata": {
        "id": "qidqMsMDC1iD"
      },
      "source": [
        "**Kalman FIlter Code for GGE6102**\n",
        "\n",
        "This code is designed to import a CSV file containing one of the follwoing:\n",
        "* UTM X, with Velocity East (m/s) and Acceleration East (m/s^2)\n",
        "* UTM Y, with Velocity North (m/s) and Acceleration North (m/s^2)\n",
        "* Height, with Velocity Up (m/s) and Acceleration Up (m/s^2)\n",
        "\n",
        "This code will then compute the prediction step using the velocity and acceleration given. It will then input the next UTM coord and calculate the correction. This will then be uploaded to a CSV file."
      ]
    },
    {
      "cell_type": "code",
      "execution_count": 2,
      "metadata": {
        "id": "5hTQJv-XCD1X"
      },
      "outputs": [],
      "source": [
        "import numpy as np\n",
        "\n",
        "import matplotlib as mpl\n"
      ]
    },
    {
      "cell_type": "markdown",
      "metadata": {
        "id": "RW-9x4lBJeQO"
      },
      "source": [
        "Here we will define the function to import the CSV and manipulate the variables within"
      ]
    },
    {
      "cell_type": "code",
      "execution_count": 5,
      "metadata": {
        "id": "M91KYTjRKLvX"
      },
      "outputs": [],
      "source": [
        "import csv\n",
        "\n",
        "#function defini\n",
        "# tion\n",
        "\n",
        "def row_data(filename):\n",
        "  mylist = []\n",
        "  with open(filename) as example:\n",
        "    example_data = csv.reader(example, delimiter=',')\n",
        "    next(example_data)\n",
        "\n",
        "    for row in example_data:\n",
        "      mylist.append(row)\n",
        "\n",
        "    return mylist\n",
        "\n",
        "new_list = row_data(r'C:\\Users\\Avery\\OneDrive\\Documents\\GitHub\\GGE6102\\Data_Sept_F180_Combined.csv')\n",
        "\n",
        "# it is important to note that no additional rows were added to the file"
      ]
    },
    {
      "cell_type": "markdown",
      "metadata": {
        "id": "ddS2xaGtLYXx"
      },
      "source": [
        "Now that the CSV is imported into a list, further reduction is needed to make lists for all the different variables"
      ]
    },
    {
      "cell_type": "code",
      "execution_count": 6,
      "metadata": {
        "colab": {
          "base_uri": "https://localhost:8080/"
        },
        "id": "E2XVpRfYLXYj",
        "outputId": "382ef0bc-d810-4002-89bb-0b4a3322a251"
      },
      "outputs": [
        {
          "name": "stdout",
          "output_type": "stream",
          "text": [
            "[-16.2781, -16.2921, -16.3845, -16.6144, -16.7938, -17.0019, -17.2269, -17.4081, -17.2958, -16.9244]\n"
          ]
        }
      ],
      "source": [
        "#defining time as a list to bring the elements from the time column\n",
        "time1 = []\n",
        "for row in new_list:\n",
        "  time1.append(row[0:1])\n",
        "\n",
        "# Here I am removing the [] from each element\n",
        "flat_time = []\n",
        "for sublist in time1:\n",
        "  for item in sublist:\n",
        "    flat_time.append(item)\n",
        "\n",
        "#the function eval() removes the '' from each element\n",
        "T = [eval(i) for i in flat_time]\n",
        "\n",
        "#------------------------------------------------------------------------------\n",
        "\n",
        "#defining X as a list to bring the elements from the UTM X coord column\n",
        "X1 = []\n",
        "for row in new_list:\n",
        "  X1.append(row[3:4])\n",
        "\n",
        "flat_X = []\n",
        "for sublist in X1:\n",
        "  for item in sublist:\n",
        "    flat_X.append(item)\n",
        "\n",
        "X = [eval(i) for i in flat_X]\n",
        "\n",
        "#------------------------------------------------------------------------------\n",
        "\n",
        "#defining Y as a list to bring the elements from the UTM Y coord column\n",
        "Y1 = []\n",
        "for row in new_list:\n",
        "  Y1.append(row[4:5])\n",
        "\n",
        "flat_Y = []\n",
        "for sublist in Y1:\n",
        "  for item in sublist:\n",
        "    flat_Y.append(item)\n",
        "\n",
        "Y = [eval(i) for i in flat_Y]\n",
        "\n",
        "#------------------------------------------------------------------------------\n",
        "\n",
        "#defining H as a list to bring the elements from the Height coord column\n",
        "H1 = []\n",
        "for row in new_list:\n",
        "  H1.append(row[5:6])\n",
        "\n",
        "flat_H = []\n",
        "for sublist in H1:\n",
        "  for item in sublist:\n",
        "    flat_H.append(item)\n",
        "\n",
        "H = [eval(i) for i in flat_H]\n",
        "\n",
        "#------------------------------------------------------------------------------\n",
        "\n",
        "#defining Vn as a list of elements from the Velocity North column\n",
        "Vn1 = []\n",
        "for row in new_list:\n",
        "  Vn1.append(row[10:11])\n",
        "\n",
        "flat_Vn = []\n",
        "for sublist in Vn1:\n",
        "  for item in sublist:\n",
        "    flat_Vn.append(item)\n",
        "\n",
        "Vn = [eval(i) for i in flat_Vn]\n",
        "\n",
        "#------------------------------------------------------------------------------\n",
        "\n",
        "#defining Ve as a list of elements from the Velocity East column\n",
        "Ve1 = []\n",
        "for row in new_list:\n",
        "  Ve1.append(row[12:13])\n",
        "\n",
        "flat_Ve = []\n",
        "for sublist in Ve1:\n",
        "  for item in sublist:\n",
        "    flat_Ve.append(item)\n",
        "\n",
        "Ve = [eval(i) for i in flat_Ve]\n",
        "\n",
        "#------------------------------------------------------------------------------\n",
        "\n",
        "#defining Vu as a list of elements from the Velocity Up column\n",
        "Vu1 = []\n",
        "for row in new_list:\n",
        "  Vu1.append(row[14:15])\n",
        "\n",
        "flat_Vu = []\n",
        "for sublist in Vu1:\n",
        "  for item in sublist:\n",
        "    flat_Vu.append(item)\n",
        "\n",
        "Vu = [eval(i) for i in flat_Vu]\n",
        "\n",
        "#------------------------------------------------------------------------------\n",
        "\n",
        "#defining stx as a list of elements from the Standard Deviation X column\n",
        "stx1 = []\n",
        "for row in new_list:\n",
        "  stx1.append(row[7:8])\n",
        "\n",
        "flat_stx = []\n",
        "for sublist in stx1:\n",
        "  for item in sublist:\n",
        "    flat_stx.append(item)\n",
        "\n",
        "stx = [eval(i) for i in flat_stx]\n",
        "\n",
        "#------------------------------------------------------------------------------\n",
        "\n",
        "#defining sty as a list of elements from the Standard Deviation Y column\n",
        "sty1 = []\n",
        "for row in new_list:\n",
        "  sty1.append(row[6:7])\n",
        "\n",
        "flat_sty = []\n",
        "for sublist in sty1:\n",
        "  for item in sublist:\n",
        "    flat_sty.append(item)\n",
        "\n",
        "sty = [eval(i) for i in flat_sty]\n",
        "\n",
        "#------------------------------------------------------------------------------\n",
        "\n",
        "#defining stu as a list of elements from the Standard Deviation Up column\n",
        "stu1 = []\n",
        "for row in new_list:\n",
        "  stu1.append(row[8:9])\n",
        "\n",
        "flat_stu = []\n",
        "for sublist in stu1:\n",
        "  for item in sublist:\n",
        "    flat_stu.append(item)\n",
        "\n",
        "stu = [eval(i) for i in flat_stu]\n",
        "\n",
        "print(H[0:10])\n",
        "\n"
      ]
    },
    {
      "cell_type": "markdown",
      "metadata": {
        "id": "7LbvKB44VyZP"
      },
      "source": [
        "Here I define the generic matrices and valuables\n",
        "\n",
        "It is improtant to remeber that the change in time is one second as that is what the Septentrio and the F180 used"
      ]
    },
    {
      "cell_type": "code",
      "execution_count": 7,
      "metadata": {
        "id": "7mmGfmGBV_zL"
      },
      "outputs": [],
      "source": [
        "F = np.array([[1, 1],[0,1]])\n",
        "\n",
        "G = np.array([[0],[1]])\n",
        "\n",
        "H = np.array([[1],[0]])\n",
        "\n",
        "error_v = 0.014**2\n",
        "\n",
        "error_acc = 0.014**2\n",
        "\n",
        "Q = np.array([[error_acc, 0],[0, error_acc]])\n",
        "\n",
        "\n"
      ]
    },
    {
      "cell_type": "markdown",
      "metadata": {
        "id": "SmpLtEbWYap9"
      },
      "source": [
        "Here I will calculate the Kalman filtering along the X axis\n"
      ]
    },
    {
      "cell_type": "code",
      "execution_count": 8,
      "metadata": {
        "colab": {
          "base_uri": "https://localhost:8080/"
        },
        "id": "U2vwbXKohHbr",
        "outputId": "7e5824de-fdf6-4b82-ba9e-38b199d72b60"
      },
      "outputs": [
        {
          "ename": "IndexError",
          "evalue": "index 2 is out of bounds for axis 0 with size 2",
          "output_type": "error",
          "traceback": [
            "\u001b[1;31m---------------------------------------------------------------------------\u001b[0m",
            "\u001b[1;31mIndexError\u001b[0m                                Traceback (most recent call last)",
            "Cell \u001b[1;32mIn[8], line 39\u001b[0m\n\u001b[0;32m     36\u001b[0m Y_vel2 \u001b[39m=\u001b[39m \u001b[39mfloat\u001b[39m(Vn[k_next])\n\u001b[0;32m     37\u001b[0m Y_acc_k \u001b[39m=\u001b[39m Y_vel2 \u001b[39m-\u001b[39m Y_vel1\n\u001b[1;32m---> 39\u001b[0m H_k_position1 \u001b[39m=\u001b[39m H[k]\n\u001b[0;32m     40\u001b[0m H_k_position \u001b[39m=\u001b[39m \u001b[39mfloat\u001b[39m(H_k_position1)\n\u001b[0;32m     41\u001b[0m H_vel1 \u001b[39m=\u001b[39m \u001b[39mfloat\u001b[39m(Vu[k])\n",
            "\u001b[1;31mIndexError\u001b[0m: index 2 is out of bounds for axis 0 with size 2"
          ]
        }
      ],
      "source": [
        "#Nomenclature: name_state; name: cov = covariance, \n",
        "#state: corr => corrected, pred => prediction\n",
        "\n",
        "k_max = len(X) - 1\n",
        "k_total = range(0,k_max)\n",
        "\n",
        "X_position_corr = 0\n",
        "Y_position_corr = 0\n",
        "H_position_corr = 0\n",
        "\n",
        "Final_X = []\n",
        "Final_Y = []\n",
        "Final_H = []\n",
        "\n",
        "for k in k_total:\n",
        "  k_next = int(k) + 1\n",
        "\n",
        "  #Here I am using the if statement to define the initial situation\n",
        "  if k == 0:\n",
        "    X_cov_corr = np.array([[stx[k]**2, 0],[0,stx[k]**2]])\n",
        "    Y_cov_corr = np.array([[sty[k]**2, 0],[0,sty[k]**2]])\n",
        "    H_cov_corr = np.array([[stu[k]**2, 0],[0,stu[k]**2]])\n",
        "\n",
        "  else:\n",
        "    X_cov_corr = X_LHS * X_cov_pred\n",
        "    Y_cov_corr = Y_LHS * Y_cov_pred\n",
        "    H_cov_corr = H_LHS * H_cov_pred\n",
        "\n",
        "  X_k_position = float(X[k])\n",
        "  X_vel1 = float(Ve[k])\n",
        "  X_vel2 = float(Ve[k_next])\n",
        "  X_acc_k = X_vel2 - X_vel1\n",
        "\n",
        "  Y_k_position = float(Y[k])\n",
        "  Y_vel1 = float(Vn[k])\n",
        "  Y_vel2 = float(Vn[k_next])\n",
        "  Y_acc_k = Y_vel2 - Y_vel1\n",
        "\n",
        "  H_k_position1 = H[k]\n",
        "  H_k_position = float(H_k_position1)\n",
        "  H_vel1 = float(Vu[k])\n",
        "  H_vel2 = float(Vu[k_next])\n",
        "  H_acc_k = H_vel2 - H_vel1\n",
        "\n",
        "  #Here I am defining the position observation from GNSS\n",
        "  X_position_obs = X_k_position + stx[k]\n",
        "  Y_position_obs = Y_k_position + sty[k]\n",
        "  H_position_obs = H_k_position + stu[k]\n",
        "    \n",
        "  #The following two equations are the predictions\n",
        "  X_position_pred = np.array([[X_k_position + X_vel1],[X_vel1 + X_acc_k]])\n",
        "  Y_position_pred = np.array([[Y_k_position + Y_vel1],[Y_vel1 + Y_acc_k]])\n",
        "  H_position_pred = np.array([[H_k_position + H_vel1],[H_vel1 + H_acc_k]])\n",
        "  \n",
        "  X_cov_pred = F * X_cov_corr * F.transpose() + Q\n",
        "  Y_cov_pred = F * Y_cov_corr * F.transpose() + Q\n",
        "  H_cov_pred = F * H_cov_corr * F.transpose() + Q\n",
        "  \n",
        "  #Correction step\n",
        "\n",
        "  #The following is for the optimal gain\n",
        "  X_denom = 3 * stx[k]**2 + 0.000392\n",
        "  X_posi_up = 2 * stx[k]**2 + 0.000392\n",
        "  X_opti_posi = float(X_posi_up / X_denom)\n",
        "  X_opti_vel = 0.014**2 / X_denom\n",
        "  X_optimal_gain = np.array([[X_opti_posi],[X_opti_vel]])\n",
        "  X_position_corr = X[k] + Ve[k] + X_opti_posi\n",
        "  Final_X.append(X_position_corr)\n",
        "  X_LHS = np.array([[1-X_opti_posi, 0],[-1*X_opti_vel, 0]])\n",
        "\n",
        "\n",
        "  Y_denom = 3 * sty[k]**2 + 0.000392\n",
        "  Y_posi_up = 2 * sty[k]**2 + 0.000392\n",
        "  Y_opti_posi = float(Y_posi_up / Y_denom)\n",
        "  Y_opti_vel = 0.00196 / Y_denom\n",
        "  Y_optimal_gain = np.array([[Y_opti_posi],[Y_opti_vel]])\n",
        "  Y_position_corr = Y[k] + Vn[k] + Y_opti_posi\n",
        "  Final_Y.append(Y_position_corr)\n",
        "  Y_LHS = np.array([[1-Y_opti_posi, 0],[-1*Y_opti_vel, 0]])\n",
        "\n",
        "  H_denom = 3 * stu[k]**2 + 0.000392\n",
        "  H_posi_up = 2 * stu[k]**2 + 0.000392\n",
        "  H_opti_posi = float(H_posi_up / H_denom)\n",
        "  H_opti_vel = 0.00196 / H_denom\n",
        "  H_optimal_gain = np.array([[H_opti_posi],[H_opti_vel]])\n",
        "  H_position_corr = H[k] + Vu[k] + H_opti_posi\n",
        "  Final_H.append(H_position_corr)\n",
        "  H_LHS = np.array([[1-H_opti_posi, 0],[-1*H_opti_vel, 0]])\n",
        "\n",
        "  \n",
        "\n"
      ]
    }
  ],
  "metadata": {
    "colab": {
      "provenance": []
    },
    "kernelspec": {
      "display_name": "base",
      "language": "python",
      "name": "python3"
    },
    "language_info": {
      "codemirror_mode": {
        "name": "ipython",
        "version": 3
      },
      "file_extension": ".py",
      "mimetype": "text/x-python",
      "name": "python",
      "nbconvert_exporter": "python",
      "pygments_lexer": "ipython3",
      "version": "3.11.1"
    },
    "vscode": {
      "interpreter": {
        "hash": "b7daeac3a23cc31a0223685c2338826c24873c378b3f955c2c85251949c830e8"
      }
    }
  },
  "nbformat": 4,
  "nbformat_minor": 0
}
